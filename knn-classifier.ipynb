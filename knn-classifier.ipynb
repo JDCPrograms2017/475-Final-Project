{
 "cells": [
  {
   "cell_type": "code",
   "execution_count": 2,
   "metadata": {},
   "outputs": [],
   "source": [
    "# import stuff\n",
    "\n",
    "import pandas\n",
    "from sklearn.model_selection import train_test_split, cross_val_score\n",
    "from sklearn.neighbors import KNeighborsClassifier\n",
    "from sklearn.metrics import accuracy_score, precision_score, recall_score, f1_score, classification_report\n",
    "from sklearn.metrics import confusion_matrix\n",
    "from sklearn.multioutput import MultiOutputClassifier\n",
    "from sklearn.preprocessing import StandardScaler # For performing standardization of data\n",
    "import seaborn as sns\n",
    "import matplotlib.pyplot as plt\n",
    "import joblib"
   ]
  },
  {
   "cell_type": "code",
   "execution_count": 3,
   "metadata": {},
   "outputs": [
    {
     "data": {
      "text/html": [
       "<div>\n",
       "<style scoped>\n",
       "    .dataframe tbody tr th:only-of-type {\n",
       "        vertical-align: middle;\n",
       "    }\n",
       "\n",
       "    .dataframe tbody tr th {\n",
       "        vertical-align: top;\n",
       "    }\n",
       "\n",
       "    .dataframe thead th {\n",
       "        text-align: right;\n",
       "    }\n",
       "</style>\n",
       "<table border=\"1\" class=\"dataframe\">\n",
       "  <thead>\n",
       "    <tr style=\"text-align: right;\">\n",
       "      <th></th>\n",
       "      <th>Age</th>\n",
       "      <th>Daily_Usage_Time..minutes.</th>\n",
       "      <th>Posts_Per_Day</th>\n",
       "      <th>Likes_Received_Per_Day</th>\n",
       "      <th>Comments_Received_Per_Day</th>\n",
       "      <th>Messages_Sent_Per_Day</th>\n",
       "      <th>Female</th>\n",
       "      <th>Male</th>\n",
       "      <th>Non-binary</th>\n",
       "      <th>Instagram</th>\n",
       "      <th>...</th>\n",
       "      <th>LinkedIn</th>\n",
       "      <th>Whatsapp</th>\n",
       "      <th>Telegram</th>\n",
       "      <th>Snapchat</th>\n",
       "      <th>Happiness</th>\n",
       "      <th>Anger</th>\n",
       "      <th>Neutral</th>\n",
       "      <th>Anxiety</th>\n",
       "      <th>Boredom</th>\n",
       "      <th>Sadness</th>\n",
       "    </tr>\n",
       "  </thead>\n",
       "  <tbody>\n",
       "    <tr>\n",
       "      <th>0</th>\n",
       "      <td>25</td>\n",
       "      <td>120</td>\n",
       "      <td>3</td>\n",
       "      <td>45</td>\n",
       "      <td>10</td>\n",
       "      <td>12</td>\n",
       "      <td>1</td>\n",
       "      <td>0</td>\n",
       "      <td>0</td>\n",
       "      <td>1</td>\n",
       "      <td>...</td>\n",
       "      <td>0</td>\n",
       "      <td>0</td>\n",
       "      <td>0</td>\n",
       "      <td>0</td>\n",
       "      <td>1</td>\n",
       "      <td>0</td>\n",
       "      <td>0</td>\n",
       "      <td>0</td>\n",
       "      <td>0</td>\n",
       "      <td>0</td>\n",
       "    </tr>\n",
       "    <tr>\n",
       "      <th>1</th>\n",
       "      <td>30</td>\n",
       "      <td>90</td>\n",
       "      <td>5</td>\n",
       "      <td>20</td>\n",
       "      <td>25</td>\n",
       "      <td>30</td>\n",
       "      <td>0</td>\n",
       "      <td>1</td>\n",
       "      <td>0</td>\n",
       "      <td>0</td>\n",
       "      <td>...</td>\n",
       "      <td>0</td>\n",
       "      <td>0</td>\n",
       "      <td>0</td>\n",
       "      <td>0</td>\n",
       "      <td>0</td>\n",
       "      <td>1</td>\n",
       "      <td>0</td>\n",
       "      <td>0</td>\n",
       "      <td>0</td>\n",
       "      <td>0</td>\n",
       "    </tr>\n",
       "    <tr>\n",
       "      <th>2</th>\n",
       "      <td>22</td>\n",
       "      <td>60</td>\n",
       "      <td>2</td>\n",
       "      <td>15</td>\n",
       "      <td>5</td>\n",
       "      <td>20</td>\n",
       "      <td>0</td>\n",
       "      <td>0</td>\n",
       "      <td>1</td>\n",
       "      <td>0</td>\n",
       "      <td>...</td>\n",
       "      <td>0</td>\n",
       "      <td>0</td>\n",
       "      <td>0</td>\n",
       "      <td>0</td>\n",
       "      <td>0</td>\n",
       "      <td>0</td>\n",
       "      <td>1</td>\n",
       "      <td>0</td>\n",
       "      <td>0</td>\n",
       "      <td>0</td>\n",
       "    </tr>\n",
       "    <tr>\n",
       "      <th>3</th>\n",
       "      <td>28</td>\n",
       "      <td>200</td>\n",
       "      <td>8</td>\n",
       "      <td>100</td>\n",
       "      <td>30</td>\n",
       "      <td>50</td>\n",
       "      <td>1</td>\n",
       "      <td>0</td>\n",
       "      <td>0</td>\n",
       "      <td>1</td>\n",
       "      <td>...</td>\n",
       "      <td>0</td>\n",
       "      <td>0</td>\n",
       "      <td>0</td>\n",
       "      <td>0</td>\n",
       "      <td>0</td>\n",
       "      <td>0</td>\n",
       "      <td>0</td>\n",
       "      <td>1</td>\n",
       "      <td>0</td>\n",
       "      <td>0</td>\n",
       "    </tr>\n",
       "    <tr>\n",
       "      <th>4</th>\n",
       "      <td>33</td>\n",
       "      <td>45</td>\n",
       "      <td>1</td>\n",
       "      <td>5</td>\n",
       "      <td>2</td>\n",
       "      <td>10</td>\n",
       "      <td>0</td>\n",
       "      <td>1</td>\n",
       "      <td>0</td>\n",
       "      <td>0</td>\n",
       "      <td>...</td>\n",
       "      <td>1</td>\n",
       "      <td>0</td>\n",
       "      <td>0</td>\n",
       "      <td>0</td>\n",
       "      <td>0</td>\n",
       "      <td>0</td>\n",
       "      <td>0</td>\n",
       "      <td>0</td>\n",
       "      <td>1</td>\n",
       "      <td>0</td>\n",
       "    </tr>\n",
       "    <tr>\n",
       "      <th>...</th>\n",
       "      <td>...</td>\n",
       "      <td>...</td>\n",
       "      <td>...</td>\n",
       "      <td>...</td>\n",
       "      <td>...</td>\n",
       "      <td>...</td>\n",
       "      <td>...</td>\n",
       "      <td>...</td>\n",
       "      <td>...</td>\n",
       "      <td>...</td>\n",
       "      <td>...</td>\n",
       "      <td>...</td>\n",
       "      <td>...</td>\n",
       "      <td>...</td>\n",
       "      <td>...</td>\n",
       "      <td>...</td>\n",
       "      <td>...</td>\n",
       "      <td>...</td>\n",
       "      <td>...</td>\n",
       "      <td>...</td>\n",
       "      <td>...</td>\n",
       "    </tr>\n",
       "    <tr>\n",
       "      <th>995</th>\n",
       "      <td>33</td>\n",
       "      <td>85</td>\n",
       "      <td>4</td>\n",
       "      <td>35</td>\n",
       "      <td>18</td>\n",
       "      <td>18</td>\n",
       "      <td>0</td>\n",
       "      <td>0</td>\n",
       "      <td>1</td>\n",
       "      <td>0</td>\n",
       "      <td>...</td>\n",
       "      <td>0</td>\n",
       "      <td>0</td>\n",
       "      <td>0</td>\n",
       "      <td>0</td>\n",
       "      <td>0</td>\n",
       "      <td>0</td>\n",
       "      <td>0</td>\n",
       "      <td>0</td>\n",
       "      <td>1</td>\n",
       "      <td>0</td>\n",
       "    </tr>\n",
       "    <tr>\n",
       "      <th>996</th>\n",
       "      <td>22</td>\n",
       "      <td>70</td>\n",
       "      <td>1</td>\n",
       "      <td>14</td>\n",
       "      <td>6</td>\n",
       "      <td>10</td>\n",
       "      <td>1</td>\n",
       "      <td>0</td>\n",
       "      <td>0</td>\n",
       "      <td>0</td>\n",
       "      <td>...</td>\n",
       "      <td>0</td>\n",
       "      <td>0</td>\n",
       "      <td>0</td>\n",
       "      <td>0</td>\n",
       "      <td>0</td>\n",
       "      <td>0</td>\n",
       "      <td>1</td>\n",
       "      <td>0</td>\n",
       "      <td>0</td>\n",
       "      <td>0</td>\n",
       "    </tr>\n",
       "    <tr>\n",
       "      <th>997</th>\n",
       "      <td>35</td>\n",
       "      <td>110</td>\n",
       "      <td>3</td>\n",
       "      <td>50</td>\n",
       "      <td>25</td>\n",
       "      <td>25</td>\n",
       "      <td>0</td>\n",
       "      <td>1</td>\n",
       "      <td>0</td>\n",
       "      <td>0</td>\n",
       "      <td>...</td>\n",
       "      <td>0</td>\n",
       "      <td>1</td>\n",
       "      <td>0</td>\n",
       "      <td>0</td>\n",
       "      <td>1</td>\n",
       "      <td>0</td>\n",
       "      <td>0</td>\n",
       "      <td>0</td>\n",
       "      <td>0</td>\n",
       "      <td>0</td>\n",
       "    </tr>\n",
       "    <tr>\n",
       "      <th>998</th>\n",
       "      <td>28</td>\n",
       "      <td>60</td>\n",
       "      <td>2</td>\n",
       "      <td>18</td>\n",
       "      <td>8</td>\n",
       "      <td>18</td>\n",
       "      <td>0</td>\n",
       "      <td>0</td>\n",
       "      <td>1</td>\n",
       "      <td>0</td>\n",
       "      <td>...</td>\n",
       "      <td>0</td>\n",
       "      <td>0</td>\n",
       "      <td>1</td>\n",
       "      <td>0</td>\n",
       "      <td>0</td>\n",
       "      <td>1</td>\n",
       "      <td>0</td>\n",
       "      <td>0</td>\n",
       "      <td>0</td>\n",
       "      <td>0</td>\n",
       "    </tr>\n",
       "    <tr>\n",
       "      <th>999</th>\n",
       "      <td>27</td>\n",
       "      <td>120</td>\n",
       "      <td>4</td>\n",
       "      <td>40</td>\n",
       "      <td>18</td>\n",
       "      <td>22</td>\n",
       "      <td>1</td>\n",
       "      <td>0</td>\n",
       "      <td>0</td>\n",
       "      <td>0</td>\n",
       "      <td>...</td>\n",
       "      <td>0</td>\n",
       "      <td>0</td>\n",
       "      <td>0</td>\n",
       "      <td>1</td>\n",
       "      <td>0</td>\n",
       "      <td>0</td>\n",
       "      <td>1</td>\n",
       "      <td>0</td>\n",
       "      <td>0</td>\n",
       "      <td>0</td>\n",
       "    </tr>\n",
       "  </tbody>\n",
       "</table>\n",
       "<p>1000 rows × 22 columns</p>\n",
       "</div>"
      ],
      "text/plain": [
       "     Age  Daily_Usage_Time..minutes.  Posts_Per_Day  Likes_Received_Per_Day  \\\n",
       "0     25                         120              3                      45   \n",
       "1     30                          90              5                      20   \n",
       "2     22                          60              2                      15   \n",
       "3     28                         200              8                     100   \n",
       "4     33                          45              1                       5   \n",
       "..   ...                         ...            ...                     ...   \n",
       "995   33                          85              4                      35   \n",
       "996   22                          70              1                      14   \n",
       "997   35                         110              3                      50   \n",
       "998   28                          60              2                      18   \n",
       "999   27                         120              4                      40   \n",
       "\n",
       "     Comments_Received_Per_Day  Messages_Sent_Per_Day  Female  Male  \\\n",
       "0                           10                     12       1     0   \n",
       "1                           25                     30       0     1   \n",
       "2                            5                     20       0     0   \n",
       "3                           30                     50       1     0   \n",
       "4                            2                     10       0     1   \n",
       "..                         ...                    ...     ...   ...   \n",
       "995                         18                     18       0     0   \n",
       "996                          6                     10       1     0   \n",
       "997                         25                     25       0     1   \n",
       "998                          8                     18       0     0   \n",
       "999                         18                     22       1     0   \n",
       "\n",
       "     Non-binary  Instagram  ...  LinkedIn  Whatsapp  Telegram  Snapchat  \\\n",
       "0             0          1  ...         0         0         0         0   \n",
       "1             0          0  ...         0         0         0         0   \n",
       "2             1          0  ...         0         0         0         0   \n",
       "3             0          1  ...         0         0         0         0   \n",
       "4             0          0  ...         1         0         0         0   \n",
       "..          ...        ...  ...       ...       ...       ...       ...   \n",
       "995           1          0  ...         0         0         0         0   \n",
       "996           0          0  ...         0         0         0         0   \n",
       "997           0          0  ...         0         1         0         0   \n",
       "998           1          0  ...         0         0         1         0   \n",
       "999           0          0  ...         0         0         0         1   \n",
       "\n",
       "     Happiness  Anger  Neutral  Anxiety  Boredom  Sadness  \n",
       "0            1      0        0        0        0        0  \n",
       "1            0      1        0        0        0        0  \n",
       "2            0      0        1        0        0        0  \n",
       "3            0      0        0        1        0        0  \n",
       "4            0      0        0        0        1        0  \n",
       "..         ...    ...      ...      ...      ...      ...  \n",
       "995          0      0        0        0        1        0  \n",
       "996          0      0        1        0        0        0  \n",
       "997          1      0        0        0        0        0  \n",
       "998          0      1        0        0        0        0  \n",
       "999          0      0        1        0        0        0  \n",
       "\n",
       "[1000 rows x 22 columns]"
      ]
     },
     "execution_count": 3,
     "metadata": {},
     "output_type": "execute_result"
    }
   ],
   "source": [
    "# load in the data\n",
    "socialMediaData = pandas.read_csv('./inputs/cleaned_train.csv')\n",
    "socialMediaData"
   ]
  },
  {
   "cell_type": "code",
   "execution_count": 4,
   "metadata": {},
   "outputs": [
    {
     "data": {
      "text/plain": [
       "Happiness    200\n",
       "Anger        130\n",
       "Neutral      200\n",
       "Anxiety      170\n",
       "Boredom      140\n",
       "Sadness      160\n",
       "dtype: int64"
      ]
     },
     "execution_count": 4,
     "metadata": {},
     "output_type": "execute_result"
    }
   ],
   "source": [
    "# split the data into X and Y and training and testing\n",
    "\n",
    "Ycolumns = ['Happiness', 'Anger', 'Neutral', 'Anxiety', 'Boredom', 'Sadness']\n",
    "\n",
    "X = socialMediaData.drop(Ycolumns, axis=1)\n",
    "Y = socialMediaData[Ycolumns]\n",
    "\n",
    "Xtrain, Xtest, Ytrain, Ytest = train_test_split(X, Y, test_size=0.3, random_state=42) # random state makes the split deterministic. if random state = None, running the code multiple times will give different training and test sets\n",
    "\n",
    "Y.sum(axis=0) # Display the number of each class in the dataset to check for over-inflation of a particular class."
   ]
  },
  {
   "cell_type": "code",
   "execution_count": 5,
   "metadata": {},
   "outputs": [
    {
     "name": "stdout",
     "output_type": "stream",
     "text": [
      "Standardized X Training Data: [[-0.62812075  1.39772658  1.42577099 ... -0.3089687  -0.28912165\n",
      "  -0.29773641]\n",
      " [ 0.86995258 -1.32511741 -1.24135807 ... -0.3089687  -0.28912165\n",
      "  -0.29773641]\n",
      " [ 1.61898925  0.61977116  0.89234518 ... -0.3089687  -0.28912165\n",
      "  -0.29773641]\n",
      " ...\n",
      " [ 0.6202737   2.04602277  1.42577099 ... -0.3089687  -0.28912165\n",
      "  -0.29773641]\n",
      " [-0.87779963 -1.06579893 -1.24135807 ... -0.3089687  -0.28912165\n",
      "  -0.29773641]\n",
      " [-1.37715741 -0.9361397  -0.70793226 ... -0.3089687  -0.28912165\n",
      "  -0.29773641]]\n",
      "Standardized X Testing Data: [[-0.87779963  0.23079344  0.35891937 ... -0.3089687  -0.28912165\n",
      "  -0.29773641]\n",
      " [-0.12876297 -0.28784351  0.35891937 ... -0.3089687  -0.28912165\n",
      "  -0.29773641]\n",
      " [ 0.86995258 -1.32511741 -1.24135807 ... -0.3089687  -0.28912165\n",
      "  -0.29773641]\n",
      " ...\n",
      " [ 0.6202737  -0.15818427  0.35891937 ... -0.3089687  -0.28912165\n",
      "  -0.29773641]\n",
      " [-0.87779963  0.36045268  1.42577099 ... -0.3089687  -0.28912165\n",
      "  -0.29773641]\n",
      " [-1.37715741 -0.67682122 -0.70793226 ...  3.23657378 -0.28912165\n",
      "  -0.29773641]]\n"
     ]
    }
   ],
   "source": [
    "# Standardization of data attempt\n",
    "# Note: Standardization caused high accuracy results that likely don't reflect the quality of the model\n",
    "# and likely instead represent overfitting of the dataset.\n",
    "\n",
    "# Performing standardization of the data\n",
    "data_scaler = StandardScaler()\n",
    "\n",
    "# Finding the mean and std. deviation of the train data\n",
    "data_scaler.fit(Xtrain)\n",
    "\n",
    "# # Performing the standardization on our data\n",
    "Xtrain_standardized = data_scaler.transform(Xtrain)\n",
    "Xtest_standardized = data_scaler.transform(Xtest)\n",
    "\n",
    "print(f'Standardized X Training Data: {Xtrain_standardized}')\n",
    "print(f'Standardized X Testing Data: {Xtest_standardized}')"
   ]
  },
  {
   "cell_type": "code",
   "execution_count": 6,
   "metadata": {},
   "outputs": [
    {
     "data": {
      "text/plain": [
       "MultiOutputClassifier(estimator=KNeighborsClassifier(n_neighbors=3,\n",
       "                                                     weights='distance'))"
      ]
     },
     "execution_count": 6,
     "metadata": {},
     "output_type": "execute_result"
    }
   ],
   "source": [
    "# build the KNN model\n",
    "\n",
    "# initialize the model\n",
    "knn = KNeighborsClassifier(n_neighbors=3, weights='distance') # pick k value. 4 or 5 works good. more than 5 is overfitting\n",
    "# wrap the model in a multiple model so it can handle multiple response variables\n",
    "multipleKnn = MultiOutputClassifier(knn)\n",
    "# run model on training data\n",
    "multipleKnn.fit(Xtrain, Ytrain)"
   ]
  },
  {
   "cell_type": "code",
   "execution_count": 7,
   "metadata": {},
   "outputs": [
    {
     "data": {
      "image/png": "[encoded data removed]",
      "text/plain": [
       "<Figure size 432x288 with 2 Axes>"
      ]
     },
     "metadata": {
      "needs_background": "light"
     },
     "output_type": "display_data"
    },
    {
     "name": "stdout",
     "output_type": "stream",
     "text": [
      "  Accuracy: 0.99\n",
      "  Precision: 0.98\n",
      "  Recall: 0.98\n",
      "  F1 Score: 0.98\n"
     ]
    },
    {
     "data": {
      "image/png": "[encoded data removed]",
      "text/plain": [
       "<Figure size 432x288 with 2 Axes>"
      ]
     },
     "metadata": {
      "needs_background": "light"
     },
     "output_type": "display_data"
    },
    {
     "name": "stdout",
     "output_type": "stream",
     "text": [
      "  Accuracy: 0.99\n",
      "  Precision: 0.95\n",
      "  Recall: 1.00\n",
      "  F1 Score: 0.97\n"
     ]
    },
    {
     "data": {
      "image/png": "[encoded data removed]",
      "text/plain": [
       "<Figure size 432x288 with 2 Axes>"
      ]
     },
     "metadata": {
      "needs_background": "light"
     },
     "output_type": "display_data"
    },
    {
     "name": "stdout",
     "output_type": "stream",
     "text": [
      "  Accuracy: 0.99\n",
      "  Precision: 0.98\n",
      "  Recall: 0.98\n",
      "  F1 Score: 0.98\n"
     ]
    },
    {
     "data": {
      "image/png": "[encoded data removed]",
      "text/plain": [
       "<Figure size 432x288 with 2 Axes>"
      ]
     },
     "metadata": {
      "needs_background": "light"
     },
     "output_type": "display_data"
    },
    {
     "name": "stdout",
     "output_type": "stream",
     "text": [
      "  Accuracy: 0.99\n",
      "  Precision: 1.00\n",
      "  Recall: 0.96\n",
      "  F1 Score: 0.98\n"
     ]
    },
    {
     "data": {
      "image/png": "[encoded data removed]",
      "text/plain": [
       "<Figure size 432x288 with 2 Axes>"
      ]
     },
     "metadata": {
      "needs_background": "light"
     },
     "output_type": "display_data"
    },
    {
     "name": "stdout",
     "output_type": "stream",
     "text": [
      "  Accuracy: 0.99\n",
      "  Precision: 0.98\n",
      "  Recall: 0.98\n",
      "  F1 Score: 0.98\n"
     ]
    },
    {
     "data": {
      "image/png": "[encoded data removed]",
      "text/plain": [
       "<Figure size 432x288 with 2 Axes>"
      ]
     },
     "metadata": {
      "needs_background": "light"
     },
     "output_type": "display_data"
    },
    {
     "name": "stdout",
     "output_type": "stream",
     "text": [
      "  Accuracy: 1.00\n",
      "  Precision: 1.00\n",
      "  Recall: 0.97\n",
      "  F1 Score: 0.99\n",
      "Cross-validation accuracy: 0.9742857142857144\n",
      "Classification report for Happiness:\n",
      "              precision    recall  f1-score   support\n",
      "\n",
      "           0       1.00      1.00      1.00       238\n",
      "           1       0.98      0.98      0.98        62\n",
      "\n",
      "    accuracy                           0.99       300\n",
      "   macro avg       0.99      0.99      0.99       300\n",
      "weighted avg       0.99      0.99      0.99       300\n",
      "\n",
      "\n",
      "\n",
      "Classification report for Anger:\n",
      "              precision    recall  f1-score   support\n",
      "\n",
      "           0       1.00      0.99      1.00       263\n",
      "           1       0.95      1.00      0.97        37\n",
      "\n",
      "    accuracy                           0.99       300\n",
      "   macro avg       0.97      1.00      0.98       300\n",
      "weighted avg       0.99      0.99      0.99       300\n",
      "\n",
      "\n",
      "\n",
      "Classification report for Neutral:\n",
      "              precision    recall  f1-score   support\n",
      "\n",
      "           0       1.00      1.00      1.00       244\n",
      "           1       0.98      0.98      0.98        56\n",
      "\n",
      "    accuracy                           0.99       300\n",
      "   macro avg       0.99      0.99      0.99       300\n",
      "weighted avg       0.99      0.99      0.99       300\n",
      "\n",
      "\n",
      "\n",
      "Classification report for Anxiety:\n",
      "              precision    recall  f1-score   support\n",
      "\n",
      "           0       0.99      1.00      1.00       246\n",
      "           1       1.00      0.96      0.98        54\n",
      "\n",
      "    accuracy                           0.99       300\n",
      "   macro avg       1.00      0.98      0.99       300\n",
      "weighted avg       0.99      0.99      0.99       300\n",
      "\n",
      "\n",
      "\n",
      "Classification report for Boredom:\n",
      "              precision    recall  f1-score   support\n",
      "\n",
      "           0       1.00      1.00      1.00       249\n",
      "           1       0.98      0.98      0.98        51\n",
      "\n",
      "    accuracy                           0.99       300\n",
      "   macro avg       0.99      0.99      0.99       300\n",
      "weighted avg       0.99      0.99      0.99       300\n",
      "\n",
      "\n",
      "\n",
      "Classification report for Sadness:\n",
      "              precision    recall  f1-score   support\n",
      "\n",
      "           0       1.00      1.00      1.00       260\n",
      "           1       1.00      0.97      0.99        40\n",
      "\n",
      "    accuracy                           1.00       300\n",
      "   macro avg       1.00      0.99      0.99       300\n",
      "weighted avg       1.00      1.00      1.00       300\n",
      "\n",
      "\n",
      "\n"
     ]
    }
   ],
   "source": [
    "# make predictions\n",
    "\n",
    "Ypredictions = multipleKnn.predict(Xtest)\n",
    "\n",
    "num_targets = Ytest.shape[1]\n",
    "for i in range(num_targets):\n",
    "    cm = confusion_matrix(Ytest.iloc[:, i], Ypredictions[:, i])\n",
    "\n",
    "    # Plot confusion matrix\n",
    "    plt.figure(figsize=(6, 4))\n",
    "    sns.heatmap(cm, annot=True, fmt=\"d\", cmap=\"Blues\", xticklabels=[\"Not Dominant\", \"Dominant\"], yticklabels=[\"Not Dominant\", \"Dominant\"])\n",
    "    plt.xlabel('Predicted')\n",
    "    plt.ylabel('True')\n",
    "    plt.title(f'Confusion Matrix for {Ycolumns[i]}')\n",
    "    plt.show()\n",
    "\n",
    "    accuracy = accuracy_score(Ytest.iloc[:, i], Ypredictions[:, i])\n",
    "    print(f\"  Accuracy: {accuracy:.2f}\")\n",
    "\n",
    "    precision = precision_score(Ytest.iloc[:, i], Ypredictions[:, i], average='binary')\n",
    "    print(f\"  Precision: {precision:.2f}\")\n",
    "    \n",
    "    recall = recall_score(Ytest.iloc[:, i], Ypredictions[:, i], average='binary')\n",
    "    print(f\"  Recall: {recall:.2f}\")\n",
    "    \n",
    "    f1 = f1_score(Ytest.iloc[:, i], Ypredictions[:, i], average='binary')\n",
    "    print(f\"  F1 Score: {f1:.2f}\")\n",
    "\n",
    "scores = cross_val_score(multipleKnn, Xtrain, Ytrain, cv=5, scoring='accuracy')\n",
    "print(f'Cross-validation accuracy: {scores.mean()}')\n",
    "\n",
    "for column in Y.columns:\n",
    "    print(f\"Classification report for {column}:\")\n",
    "    print(classification_report(Ytest[column], Ypredictions[:, Y.columns.get_loc(column)]))\n",
    "    print(\"\\n\")\n",
    "\n",
    "    "
   ]
  },
  {
   "cell_type": "code",
   "execution_count": 8,
   "metadata": {},
   "outputs": [
    {
     "data": {
      "text/plain": [
       "['./social-media-knn-model.pkl']"
      ]
     },
     "execution_count": 8,
     "metadata": {},
     "output_type": "execute_result"
    }
   ],
   "source": [
    "# Export our trained model so that we can load it and use it later.\n",
    "joblib.dump(multipleKnn, \"./social-media-knn-model.pkl\")"
   ]
  },
  {
   "cell_type": "code",
   "execution_count": 21,
   "metadata": {},
   "outputs": [],
   "source": [
    "# Storing average values and column features for usage in model predictions in case users\n",
    "# elect not to specify some information.\n",
    "\n",
    "data_features = socialMediaData.columns.tolist()\n",
    "data_features = data_features[:16]\n",
    "\n",
    "age_avg = socialMediaData['Age'].mean()\n",
    "daily_usage_avg = socialMediaData['Daily_Usage_Time..minutes.'].mean()\n",
    "comments_avg = socialMediaData['Comments_Received_Per_Day'].mean()\n",
    "daily_posts_avg = socialMediaData['Posts_Per_Day'].mean()\n",
    "daily_messages_sent_avg = socialMediaData['Messages_Sent_Per_Day'].mean()\n",
    "daily_likes_avg = socialMediaData['Likes_Received_Per_Day'].mean()\n",
    "\n",
    "# Output the column names and averages to the file.\n",
    "with open('averages.txt', 'w') as file:\n",
    "    file.write(\"Feature Data:\\n\")\n",
    "    file.write(\",\".join(data_features) + \"\\n\")\n",
    "    file.write(str(age_avg))\n",
    "    file.write(\",\" + str(daily_usage_avg))\n",
    "    file.write(\",\" + str(daily_posts_avg))\n",
    "    file.write(\",\" + str(daily_likes_avg))\n",
    "    file.write(\",\" + str(comments_avg))\n",
    "    file.write(\",\" + str(daily_messages_sent_avg))"
   ]
  },
  {
   "cell_type": "code",
   "execution_count": null,
   "metadata": {},
   "outputs": [
    {
     "name": "stdout",
     "output_type": "stream",
     "text": [
      "[[0 1 0 0 0 0]\n",
      " [0 1 0 0 0 0]\n",
      " [0 0 0 0 0 1]\n",
      " ...\n",
      " [0 1 0 0 0 0]\n",
      " [0 0 1 0 0 0]\n",
      " [0 0 0 1 0 0]]\n",
      "Happiness    62\n",
      "Anger        39\n",
      "Neutral      56\n",
      "Anxiety      52\n",
      "Boredom      51\n",
      "Sadness      39\n",
      "dtype: int64\n",
      "Chi-Square Statistical Results: 4.384838220491873, p-value: 0.4954379182636932\n"
     ]
    }
   ],
   "source": [
    "# Performing some hypothesis testing.\n",
    "# Hypothesis: Anxiety is the most dominant predicted emotion\n",
    "\n",
    "from scipy.stats import chi2_contingency\n",
    "predicted_output_totals = pandas.DataFrame(Ypredictions, columns=Ycolumns).sum()\n",
    "\n",
    "# Assuming a uniform distribution, we need to have an expected frequency for each variable.\n",
    "expected_frequencies = [sum(predicted_output_totals) / len(predicted_output_totals)] * len(predicted_output_totals)\n",
    "\n",
    "# Print out the number of predictions of each test row for each class\n",
    "print(predicted_output_totals)\n",
    "\n",
    "# Peforming a Chi-Squared Test to evaluate our hypothesis regarding Anxiety as the dominant emotion.\n",
    "chi2_stat, p_val, dof, expected = chi2_contingency([predicted_output_totals, expected_frequencies])\n",
    "print(f'Chi-Square Statistical Results: {chi2_stat}, p-value: {p_val}')"
   ]
  },
  {
   "cell_type": "code",
   "execution_count": 17,
   "metadata": {},
   "outputs": [
    {
     "name": "stdout",
     "output_type": "stream",
     "text": [
      "  Predicted_Emotion  Count\n",
      "0         Happiness     62\n",
      "1           Neutral     56\n",
      "2           Anxiety     53\n",
      "3           Boredom     51\n",
      "4           Sadness     39\n",
      "5             Anger     39\n"
     ]
    }
   ],
   "source": [
    "prob_preds = multipleKnn.predict_proba(Xtest) # Predicting the probabilities for each emotional state.\n",
    "\n",
    "prob_results = pandas.DataFrame({\n",
    "    'Feaure_Index: ': range(len(Xtest)),\n",
    "    'Happiness': [prob[:, 1] for prob in prob_preds][0],\n",
    "    'Anger': [prob[:, 1] for prob in prob_preds][1],\n",
    "    'Neutral': [prob[:, 1] for prob in prob_preds][2],\n",
    "    'Anxiety': [prob[:, 1] for prob in prob_preds][3],\n",
    "    'Boredom': [prob[:, 1] for prob in prob_preds][4],\n",
    "    'Sadness': [prob[:, 1] for prob in prob_preds][5]\n",
    "})\n",
    "\n",
    "most_likely_emotion = prob_results.iloc[:, 1:].idxmax(axis=1)\n",
    "prob_results['Most_Likely_Emotion'] = most_likely_emotion\n",
    "mle_counts = prob_results['Most_Likely_Emotion'].value_counts()\n",
    "mle_counts = mle_counts.reset_index() # Converting the series to a DataFrame.\n",
    "mle_counts.columns = ['Predicted_Emotion', 'Count']\n",
    "\n",
    "prob_results = pandas.concat([Xtest.reset_index(drop=True), prob_results], axis=1)\n",
    "print(mle_counts)\n",
    "# prob_results"
   ]
  },
  {
   "cell_type": "markdown",
   "metadata": {},
   "source": [
    "# Analyzing the Probabilities\n",
    "-----------"
   ]
  },
  {
   "cell_type": "code",
   "execution_count": 24,
   "metadata": {},
   "outputs": [
    {
     "data": {
      "image/png": "[encoded data removed]",
      "text/plain": [
       "<Figure size 576x432 with 1 Axes>"
      ]
     },
     "metadata": {
      "needs_background": "light"
     },
     "output_type": "display_data"
    }
   ],
   "source": [
    "# Taking a look at the general model outputs given the testing data.\n",
    "plt.figure(figsize=(8, 6))\n",
    "sns.barplot(data=mle_counts, x='Predicted_Emotion', y='Count', palette='rocket')\n",
    "plt.xlabel('Predicted Dominant Emotion')\n",
    "plt.ylabel('Number of Predictions')\n",
    "plt.title('Model Output for Predicted Dominant Emotion')\n",
    "plt.tight_layout()\n",
    "plt.show()"
   ]
  },
  {
   "cell_type": "code",
   "execution_count": 26,
   "metadata": {},
   "outputs": [
    {
     "name": "stdout",
     "output_type": "stream",
     "text": [
      "Age\n",
      "21      Neutral\n",
      "22      Neutral\n",
      "23      Neutral\n",
      "24        Anger\n",
      "25    Happiness\n",
      "26      Sadness\n",
      "27      Boredom\n",
      "28      Anxiety\n",
      "29      Boredom\n",
      "30        Anger\n",
      "31      Sadness\n",
      "32    Happiness\n",
      "33    Happiness\n",
      "34      Boredom\n",
      "35      Boredom\n",
      "dtype: object\n",
      "    Dominant_Emotion_Prediction  Emotion_Prediction_Percentage\n",
      "Age                                                           \n",
      "21                      Neutral                       0.454545\n",
      "22                      Neutral                       0.521739\n",
      "23                      Neutral                       0.500000\n",
      "24                        Anger                       0.296296\n",
      "25                    Happiness                       0.588235\n",
      "26                      Sadness                       0.521739\n",
      "27                      Boredom                       0.243243\n",
      "28                      Anxiety                       0.285714\n",
      "29                      Boredom                       0.500000\n",
      "30                        Anger                       0.411765\n",
      "31                      Sadness                       0.350000\n",
      "32                    Happiness                       0.500000\n",
      "33                    Happiness                       0.454545\n",
      "34                      Boredom                       0.375000\n",
      "35                      Boredom                       0.500000\n"
     ]
    },
    {
     "data": {
      "image/png": "[encoded data removed]",
      "text/plain": [
       "<Figure size 720x432 with 1 Axes>"
      ]
     },
     "metadata": {
      "needs_background": "light"
     },
     "output_type": "display_data"
    }
   ],
   "source": [
    "age_analysis = prob_results.groupby('Age')['Most_Likely_Emotion'].value_counts(normalize=True)\n",
    "age_emotion_matrix = age_analysis.unstack(fill_value=0)\n",
    "most_likely_emotion_per_age = age_emotion_matrix.idxmax(axis=1)\n",
    "print(most_likely_emotion_per_age)\n",
    "\n",
    "age_emotion_df = pandas.DataFrame({\n",
    "    'Dominant_Emotion_Prediction': most_likely_emotion_per_age,\n",
    "    'Emotion_Prediction_Percentage': age_emotion_matrix.max(axis=1)\n",
    "})\n",
    "\n",
    "print(age_emotion_df)\n",
    "\n",
    "plt.figure(figsize=(10, 6))\n",
    "sns.barplot(x=age_emotion_df.index, y='Emotion_Prediction_Percentage', hue='Dominant_Emotion_Prediction', data=age_emotion_df, dodge=False)\n",
    "plt.title('Most Dominant Predicted Emotion for Each Age Class')\n",
    "plt.ylabel('Percentage')\n",
    "plt.xlabel('Age Group')\n",
    "plt.legend(title='Emotional State', bbox_to_anchor=(1.05, 1), loc='upper left')\n",
    "plt.xticks(rotation=45)\n",
    "plt.tight_layout()\n",
    "plt.show()"
   ]
  }
 ],
 "metadata": {
  "kernelspec": {
   "display_name": "base",
   "language": "python",
   "name": "python3"
  },
  "language_info": {
   "codemirror_mode": {
    "name": "ipython",
    "version": 3
   },
   "file_extension": ".py",
   "mimetype": "text/x-python",
   "name": "python",
   "nbconvert_exporter": "python",
   "pygments_lexer": "ipython3",
   "version": "3.8.8"
  }
 },
 "nbformat": 4,
 "nbformat_minor": 2
}
